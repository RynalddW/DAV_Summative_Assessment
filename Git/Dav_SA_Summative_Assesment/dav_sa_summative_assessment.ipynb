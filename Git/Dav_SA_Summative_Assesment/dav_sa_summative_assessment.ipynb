{
 "cells": [
  {
   "cell_type": "markdown",
   "metadata": {
    "colab_type": "text",
    "id": "0h0RfhVgnOIH"
   },
   "source": [
    "# Summative Assessment - Data Analytics and Visualization"
   ]
  },
  {
   "cell_type": "markdown",
   "metadata": {
    "colab_type": "text",
    "id": "LEyTxN8VnOIN"
   },
   "source": [
    "This assessment will cover the following:\n",
    "- Importing the data and dealing with missing values\n",
    "- Exploring the data and producing some simple visualizations\n",
    "- Sampling and comparing samples\n",
    "- Looking for correlation\n",
    "- Using regression to predict power consumption\n",
    "\n",
    "It's split into tasks, each in its own section. Write your code and answers in the spaces provided. Feel free to add cells and import any libraries you'll require."
   ]
  },
  {
   "cell_type": "markdown",
   "metadata": {
    "colab_type": "text",
    "id": "CdEQPkp8nOIS"
   },
   "source": [
    "## The data"
   ]
  },
  {
   "cell_type": "markdown",
   "metadata": {
    "colab_type": "text",
    "id": "AvE9r4eenOIX"
   },
   "source": [
    "The data we'll be using in this assesssment was downloaded from data.world (https://data.world/databeats/household-power-consumption), a subset of a larger dataset available from the UCI Machine Learning Repository (https://archive.ics.uci.edu/ml/datasets/individual+household+electric+power+consumption#).\n",
    "\n",
    "It may look familiar to some of you!\n",
    "\n",
    "Here's the description of the data from the site:\n",
    "\n",
    "<b>Data Set Information</b>\n",
    "\n",
    "This household electricity consumption dataset contains 260,640 measurements gathered between January 2007 and June 2007 (6 months). It is a subset of a larger, original archive that contains 2,075,259 measurements gathered between December 2006 and November 2010 (47 months).\n",
    "\n",
    "<b>Attribute Information</b>\n",
    "\n",
    "date: Date in format dd/mm/yyyy\n",
    "time: time in format hh:mm:ss\n",
    "global_active_power: household global minute-averaged active power (in kilowatt)\n",
    "global_reactive_power: household global minute-averaged reactive power (in kilowatt)\n",
    "voltage: minute-averaged voltage (in volt)\n",
    "global_intensity: household global minute-averaged current intensity (in ampere)\n",
    "sub_metering_1: energy sub-metering No. 1 (in watt-hour of active energy). It corresponds to the kitchen, containing mainly a dishwasher, an oven and a microwave (hot plates are not electric but gas powered).\n",
    "sub_metering_2: energy sub-metering No. 2 (in watt-hour of active energy). It corresponds to the laundry room, containing a washing-machine, a tumble-drier, a refrigerator and a light.\n",
    "sub_metering_3: energy sub-metering No. 3 (in watt-hour of active energy). It corresponds to an electric water-heater and an air-conditioner."
   ]
  },
  {
   "cell_type": "markdown",
   "metadata": {
    "colab_type": "text",
    "id": "Ft8pncmanOIb"
   },
   "source": [
    "## Assessment Flow"
   ]
  },
  {
   "cell_type": "markdown",
   "metadata": {
    "colab_type": "text",
    "id": "dDt9eA8tnOIg"
   },
   "source": [
    "## Task 1 - Getting the data!"
   ]
  },
  {
   "cell_type": "markdown",
   "metadata": {
    "colab_type": "text",
    "id": "C8ivYnnlnOIk"
   },
   "source": [
    "*The* data has not been downloaded for you. Save the file and add the correct file path for your file."
   ]
  },
  {
   "cell_type": "code",
   "execution_count": 0,
   "metadata": {
    "colab": {},
    "colab_type": "code",
    "id": "hYNld1KXnOIp"
   },
   "outputs": [],
   "source": [
    "file_path = 'household_power_consumption-household_power_consumption.csv'"
   ]
  },
  {
   "cell_type": "markdown",
   "metadata": {
    "colab_type": "text",
    "id": "lVoQiAfZnOI7"
   },
   "source": [
    "It is comma separated, but has a major issue you'll have to deal with before you can begin working with it: missing values are marked with a '?'. You'll need to remove all rows with missing values and make sure the columns are the right type before we move on. This is a classic example of a problem whose solution isn't worth memorizing, so if you're struggling take a look around on stack overflow or elsewhere for others who've solved the same problem!"
   ]
  },
  {
   "cell_type": "code",
   "execution_count": 0,
   "metadata": {
    "colab": {},
    "colab_type": "code",
    "id": "rErrzN6_nOI_"
   },
   "outputs": [],
   "source": [
    "# Import the libraries you'll be using and load the data into a pandas dataframe here"
   ]
  },
  {
   "cell_type": "markdown",
   "metadata": {
    "colab_type": "text",
    "id": "askK_iT_nOJM"
   },
   "source": [
    "Now, we can start looking at this data. Assuming you've called your dataframe 'df', run df.head() and df.describe() to see what we're working with. Remember, at this stage you shouldn't have missing data."
   ]
  },
  {
   "cell_type": "code",
   "execution_count": 0,
   "metadata": {
    "colab": {},
    "colab_type": "code",
    "id": "FYfGUtPxnOJQ"
   },
   "outputs": [],
   "source": [
    "# Look at the data you've loaded"
   ]
  },
  {
   "cell_type": "markdown",
   "metadata": {
    "colab_type": "text",
    "id": "ROeNOPS0nOJd"
   },
   "source": [
    "Look at the count field - lots of rows! Try running something like df.plot() - it takes a while. Imagine a dataset with 25 million rows. If we're going to be exploring and playing around, we might not want to wait for things to complete. So, sampling! Your next task will be to generate a smaller dataset for data exploration"
   ]
  },
  {
   "cell_type": "markdown",
   "metadata": {
    "colab_type": "text",
    "id": "OAVJG8VHnOJh"
   },
   "source": [
    "## Task 2: Subsampling"
   ]
  },
  {
   "cell_type": "markdown",
   "metadata": {
    "colab_type": "text",
    "id": "Vg0Vhe0mnOJm"
   },
   "source": [
    "Create two new dataframes, one with the first 1000 rows of df and another with 1000 rows starting from 75,000. "
   ]
  },
  {
   "cell_type": "code",
   "execution_count": 0,
   "metadata": {
    "colab": {},
    "colab_type": "code",
    "id": "n5CqoMvgnOJr"
   },
   "outputs": [],
   "source": [
    "# Answer here"
   ]
  },
  {
   "cell_type": "markdown",
   "metadata": {
    "colab_type": "text",
    "id": "_IJ5oVaKnOKC"
   },
   "source": [
    "Do you think the first 1000 rows will give a good picture of the whole dataset? Find the mean and std dev for both of your small datasets. Do they match? Do they reflect the statistics for the dataset as a whole? Write your answers to these questions in a cell below the code you use to create and investigate these new dataframes."
   ]
  },
  {
   "cell_type": "code",
   "execution_count": 0,
   "metadata": {
    "colab": {},
    "colab_type": "code",
    "id": "XaGZv8HznOKO"
   },
   "outputs": [],
   "source": [
    "# Answer here - explain your code and reasoning with extra cells for explanation."
   ]
  },
  {
   "cell_type": "markdown",
   "metadata": {
    "colab_type": "text",
    "id": "udKSGxKTnOKs"
   },
   "source": [
    "Create one new dataframewith the first 10,000 rows of data. Use random sampling to create a dataframe with 10,000 rows taken randomly from within the data and name it df_small. Is this a better representation of the dataset as a whole? If so, we can move on. If not, add more data or make other changes you feel are necessary."
   ]
  },
  {
   "cell_type": "code",
   "execution_count": 0,
   "metadata": {
    "colab": {},
    "colab_type": "code",
    "id": "kq_ZKSwfnOKy"
   },
   "outputs": [],
   "source": [
    "# Answer"
   ]
  },
  {
   "cell_type": "markdown",
   "metadata": {
    "colab_type": "text",
    "id": "dTU2Y8jonOLH"
   },
   "source": [
    "## Task 3: Correlation and Plotting"
   ]
  },
  {
   "cell_type": "markdown",
   "metadata": {
    "colab_type": "text",
    "id": "6mna1NFpnOLL"
   },
   "source": [
    "Explore the correlation of various features in the graph. Plot some scatterplots showing the features with the highest correlation coeficient, and some for those with the lowest correlation coeficient. "
   ]
  },
  {
   "cell_type": "markdown",
   "metadata": {
    "colab_type": "text",
    "id": "aEkw8T5NnOLR"
   },
   "source": [
    "- Name two pairs of highly correlated variables. \n",
    "- Produce at least three scatter plots."
   ]
  },
  {
   "cell_type": "markdown",
   "metadata": {
    "colab_type": "text",
    "id": "x3yJl8IKnOLV"
   },
   "source": [
    "### Answer:"
   ]
  },
  {
   "cell_type": "code",
   "execution_count": 0,
   "metadata": {
    "colab": {},
    "colab_type": "code",
    "id": "3nzJiaYDnOLZ"
   },
   "outputs": [],
   "source": []
  },
  {
   "cell_type": "markdown",
   "metadata": {
    "colab_type": "text",
    "id": "AB1oqB0ynOLl"
   },
   "source": [
    "## Task 4: Simple Linear Regression"
   ]
  },
  {
   "cell_type": "markdown",
   "metadata": {
    "colab_type": "text",
    "id": "avq_gQKBnOLp"
   },
   "source": [
    "Find the parameters of a simple linear model with Global_intensity as the explanatory variable and Global_active_power as the dependent variable\n",
    "\n",
    "- Print out the model parameters and score"
   ]
  },
  {
   "cell_type": "markdown",
   "metadata": {
    "colab_type": "text",
    "id": "JfOXWmNKnOLt"
   },
   "source": [
    "### Answer:"
   ]
  },
  {
   "cell_type": "code",
   "execution_count": 0,
   "metadata": {
    "colab": {},
    "colab_type": "code",
    "id": "Hgn8LFwbnOLx"
   },
   "outputs": [],
   "source": [
    "# Build a simple model and find parameters, as well as the R-Squared Value"
   ]
  },
  {
   "cell_type": "markdown",
   "metadata": {
    "colab_type": "text",
    "id": "91tz57WknOL9"
   },
   "source": [
    "## Task 5: Regression, but harder this time"
   ]
  },
  {
   "cell_type": "markdown",
   "metadata": {
    "colab_type": "text",
    "id": "_o-YLkyenOMC"
   },
   "source": [
    "You didn't think it was going to be that easy? Intensity and power are different measures of essentially the same thing. We want to predict power from the other readings - a much harder task.\n",
    "\n",
    "Tasks: \n",
    "- Predict the power based on as many of the other factors as you think necessary. As before, print out model parameters and the score, both when using the model on your sample and when running it (i.e. score()) over the whole dataset."
   ]
  },
  {
   "cell_type": "markdown",
   "metadata": {
    "colab_type": "text",
    "id": "jhn3-YAZnOMG"
   },
   "source": [
    "### Answer:"
   ]
  },
  {
   "cell_type": "code",
   "execution_count": 0,
   "metadata": {
    "colab": {},
    "colab_type": "code",
    "id": "x--goI3-nOMK"
   },
   "outputs": [],
   "source": []
  },
  {
   "cell_type": "markdown",
   "metadata": {
    "colab_type": "text",
    "id": "hG_WFzyznOMY"
   },
   "source": [
    "## Task 6 - Logistic Regression"
   ]
  },
  {
   "cell_type": "markdown",
   "metadata": {
    "colab_type": "text",
    "id": "5M6mCZynnOMe"
   },
   "source": [
    "Use logistic regression to predict occasions when Sub_metering_1 is greater than Sub_metering_2 - in other words, when is the kitchen more in use then the laundry room? \n",
    "Tasks: \n",
    "- Add a column with a 1 when kitchen power is higher than laundry room (sub_metering_1>2) and a 0 when not. \n",
    "- Build a logistic regression model with this as the dependant variable. Use any variables as inputs.\n",
    "- How did your model score? Briefly comment with your thoughts. Do you think this is something one could feasibly predict from the available data?"
   ]
  },
  {
   "cell_type": "code",
   "execution_count": 0,
   "metadata": {
    "colab": {},
    "colab_type": "code",
    "id": "wRWqp9cknOMn"
   },
   "outputs": [],
   "source": []
  },
  {
   "cell_type": "markdown",
   "metadata": {
    "colab_type": "text",
    "id": "iewCLRIxnONG"
   },
   "source": [
    "## Task 7 - Visualizations and conclusions"
   ]
  },
  {
   "cell_type": "markdown",
   "metadata": {
    "colab_type": "text",
    "id": "bUKwbpQanONN"
   },
   "source": [
    "Well done! You're almost through. Now for some final easy points, pick three of the following questions and create a visualization and some text to answer the question:\n",
    "- What time of day is the kitchen used?\n",
    "- Does the weekly power consumption remain constant?\n",
    "- Which sub-metering zone used the most power?\n",
    "- How did power use in the different zones change over time?\n",
    "- How did the two small subsamples you created in the beginning (1000 rows each) differ?"
   ]
  },
  {
   "cell_type": "code",
   "execution_count": 0,
   "metadata": {
    "colab": {},
    "colab_type": "code",
    "id": "cVp591Q8nONT"
   },
   "outputs": [],
   "source": []
  }
 ],
 "metadata": {
  "colab": {
   "name": "dav_sa_summative_assessment.ipynb",
   "provenance": [],
   "version": "0.3.2"
  },
  "kernelspec": {
   "display_name": "Python 3",
   "language": "python",
   "name": "python3"
  },
  "language_info": {
   "codemirror_mode": {
    "name": "ipython",
    "version": 3
   },
   "file_extension": ".py",
   "mimetype": "text/x-python",
   "name": "python",
   "nbconvert_exporter": "python",
   "pygments_lexer": "ipython3",
   "version": "3.7.4"
  }
 },
 "nbformat": 4,
 "nbformat_minor": 1
}
